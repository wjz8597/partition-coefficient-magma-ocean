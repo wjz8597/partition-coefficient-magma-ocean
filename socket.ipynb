{
 "cells": [
  {
   "cell_type": "code",
   "execution_count": 1,
   "id": "9b10cc0c",
   "metadata": {},
   "outputs": [],
   "source": [
    "import socket"
   ]
  },
  {
   "cell_type": "code",
   "execution_count": 2,
   "id": "b5ad168f",
   "metadata": {},
   "outputs": [],
   "source": [
    "s = socket.socket(socket.AF_INET, socket.SOCK_DGRAM)\n"
   ]
  },
  {
   "cell_type": "code",
   "execution_count": 3,
   "id": "6bffa278",
   "metadata": {},
   "outputs": [],
   "source": [
    "MAX_SIZE_BYTES = 65535 # Mazimum size of a UDP datagram\n",
    "\n",
    "#message = input(\"Input lowercase sentence:\")\n",
    "#data = message.encode('ascii')\n",
    "#s.sendto(data, ('127.0.0.1', 3000))\n",
    "#print('The OS assigned the address {} to me'.format(s.getsockname()))\n",
    "#data, address = s.recvfrom(MAX_SIZE_BYTES)\n",
    "\n",
    "#print(data)\n",
    "#text = data.decode('ascii')\n",
    "#print('The server {} replied with {!r}'.format(address, text))\n"
   ]
  },
  {
   "cell_type": "code",
   "execution_count": 4,
   "id": "cb443fa2",
   "metadata": {},
   "outputs": [],
   "source": [
    "MAX_SIZE_BYTES = 65535\n",
    "def server(hostaddr, port=3000):\n",
    "    s = socket.socket(socket.AF_INET, socket.SOCK_DGRAM)\n",
    "    s.bind((hostaddr, port))\n",
    "    print(\"Address of server: {}; Listen to port: {}\".format(hostaddr, port))\n",
    "    while True:\n",
    "        data, clientAddress = s.recvfrom(MAX_SIZE_BYTES)\n",
    "        text = data.decode('ascii')\n",
    "        upperCaseMessage = text.upper()\n",
    "        replyMessage = upperCaseMessage.encode('ascii')\n",
    "        s.sendto(replyMessage, clientAddress)\n",
    "            \n",
    "def client(hostaddr, port):\n",
    "    s = socket.socket(socket.AF_INET, socket.SOCK_DGRAM)\n",
    "    print(\"The OS assigns the socket: {}\".format(s.getsockname))\n",
    "    message = input(\"Please input the lowercase sentence:\")\n",
    "    dataToServer = message.encode('ascii')\n",
    "    s.connect((hostaddr, port))\n",
    "    #s.sendt(dataToServer, (hostaddr, port))\n",
    "    s.send(dataToServer)\n",
    "    #data, address = s.recvfrom(MAX_SIZE_BYTES)\n",
    "    data = s.recv(MAX_SIZE_BYTES)\n",
    "    assert address == hostaddr\n",
    "    replyFromServer = data.decode('ascii')\n",
    "    print(\"The server reply with {}.\".format(replyFromServer))\n",
    "    \n",
    "    "
   ]
  },
  {
   "cell_type": "code",
   "execution_count": 5,
   "id": "3167e71a",
   "metadata": {},
   "outputs": [
    {
     "name": "stdout",
     "output_type": "stream",
     "text": [
      "Address of server: 127.0.0.1; Listen to port: 3000\n"
     ]
    },
    {
     "ename": "KeyboardInterrupt",
     "evalue": "",
     "output_type": "error",
     "traceback": [
      "\u001b[0;31m---------------------------------------------------------------------------\u001b[0m",
      "\u001b[0;31mKeyboardInterrupt\u001b[0m                         Traceback (most recent call last)",
      "\u001b[0;32m/var/folders/lt/5qghh0r14hn1lzwzn9svyrh40000gn/T/ipykernel_55739/3059683856.py\u001b[0m in \u001b[0;36m<module>\u001b[0;34m\u001b[0m\n\u001b[0;32m----> 1\u001b[0;31m \u001b[0mserver\u001b[0m\u001b[0;34m(\u001b[0m\u001b[0;34m'127.0.0.1'\u001b[0m\u001b[0;34m,\u001b[0m \u001b[0;36m3000\u001b[0m\u001b[0;34m)\u001b[0m\u001b[0;34m\u001b[0m\u001b[0;34m\u001b[0m\u001b[0m\n\u001b[0m",
      "\u001b[0;32m/var/folders/lt/5qghh0r14hn1lzwzn9svyrh40000gn/T/ipykernel_55739/37985837.py\u001b[0m in \u001b[0;36mserver\u001b[0;34m(hostaddr, port)\u001b[0m\n\u001b[1;32m      5\u001b[0m     \u001b[0mprint\u001b[0m\u001b[0;34m(\u001b[0m\u001b[0;34m\"Address of server: {}; Listen to port: {}\"\u001b[0m\u001b[0;34m.\u001b[0m\u001b[0mformat\u001b[0m\u001b[0;34m(\u001b[0m\u001b[0mhostaddr\u001b[0m\u001b[0;34m,\u001b[0m \u001b[0mport\u001b[0m\u001b[0;34m)\u001b[0m\u001b[0;34m)\u001b[0m\u001b[0;34m\u001b[0m\u001b[0;34m\u001b[0m\u001b[0m\n\u001b[1;32m      6\u001b[0m     \u001b[0;32mwhile\u001b[0m \u001b[0;32mTrue\u001b[0m\u001b[0;34m:\u001b[0m\u001b[0;34m\u001b[0m\u001b[0;34m\u001b[0m\u001b[0m\n\u001b[0;32m----> 7\u001b[0;31m         \u001b[0mdata\u001b[0m\u001b[0;34m,\u001b[0m \u001b[0mclientAddress\u001b[0m \u001b[0;34m=\u001b[0m \u001b[0ms\u001b[0m\u001b[0;34m.\u001b[0m\u001b[0mrecvfrom\u001b[0m\u001b[0;34m(\u001b[0m\u001b[0mMAX_SIZE_BYTES\u001b[0m\u001b[0;34m)\u001b[0m\u001b[0;34m\u001b[0m\u001b[0;34m\u001b[0m\u001b[0m\n\u001b[0m\u001b[1;32m      8\u001b[0m         \u001b[0mtext\u001b[0m \u001b[0;34m=\u001b[0m \u001b[0mdata\u001b[0m\u001b[0;34m.\u001b[0m\u001b[0mdecode\u001b[0m\u001b[0;34m(\u001b[0m\u001b[0;34m'ascii'\u001b[0m\u001b[0;34m)\u001b[0m\u001b[0;34m\u001b[0m\u001b[0;34m\u001b[0m\u001b[0m\n\u001b[1;32m      9\u001b[0m         \u001b[0mupperCaseMessage\u001b[0m \u001b[0;34m=\u001b[0m \u001b[0mtext\u001b[0m\u001b[0;34m.\u001b[0m\u001b[0mupper\u001b[0m\u001b[0;34m(\u001b[0m\u001b[0;34m)\u001b[0m\u001b[0;34m\u001b[0m\u001b[0;34m\u001b[0m\u001b[0m\n",
      "\u001b[0;31mKeyboardInterrupt\u001b[0m: "
     ]
    }
   ],
   "source": [
    "server('127.0.0.1', 3000)"
   ]
  },
  {
   "cell_type": "code",
   "execution_count": 1,
   "id": "024307ae",
   "metadata": {},
   "outputs": [],
   "source": [
    "from scipy import *"
   ]
  },
  {
   "cell_type": "code",
   "execution_count": 2,
   "id": "e989d1f6",
   "metadata": {},
   "outputs": [],
   "source": [
    "import scipy"
   ]
  },
  {
   "cell_type": "code",
   "execution_count": 3,
   "id": "c9764509",
   "metadata": {},
   "outputs": [
    {
     "data": {
      "text/plain": [
       "<scipy._lib._testutils.PytestTester at 0x7f922307efa0>"
      ]
     },
     "execution_count": 3,
     "metadata": {},
     "output_type": "execute_result"
    }
   ],
   "source": [
    "scipy.test"
   ]
  },
  {
   "cell_type": "code",
   "execution_count": 4,
   "id": "c4ae44ce",
   "metadata": {},
   "outputs": [
    {
     "ename": "ImportError",
     "evalue": "cannot import name 'curve_fit' from 'scipy' (/Users/wjz8597/opt/anaconda3/lib/python3.9/site-packages/scipy/__init__.py)",
     "output_type": "error",
     "traceback": [
      "\u001b[0;31m---------------------------------------------------------------------------\u001b[0m",
      "\u001b[0;31mImportError\u001b[0m                               Traceback (most recent call last)",
      "Input \u001b[0;32mIn [4]\u001b[0m, in \u001b[0;36m<cell line: 1>\u001b[0;34m()\u001b[0m\n\u001b[0;32m----> 1\u001b[0m \u001b[38;5;28;01mfrom\u001b[39;00m \u001b[38;5;21;01mscipy\u001b[39;00m \u001b[38;5;28;01mimport\u001b[39;00m curve_fit\n",
      "\u001b[0;31mImportError\u001b[0m: cannot import name 'curve_fit' from 'scipy' (/Users/wjz8597/opt/anaconda3/lib/python3.9/site-packages/scipy/__init__.py)"
     ]
    }
   ],
   "source": [
    "from scipy import curve_fit"
   ]
  },
  {
   "cell_type": "code",
   "execution_count": null,
   "id": "206a15a5",
   "metadata": {},
   "outputs": [],
   "source": []
  }
 ],
 "metadata": {
  "kernelspec": {
   "display_name": "Python 3 (ipykernel)",
   "language": "python",
   "name": "python3"
  },
  "language_info": {
   "codemirror_mode": {
    "name": "ipython",
    "version": 3
   },
   "file_extension": ".py",
   "mimetype": "text/x-python",
   "name": "python",
   "nbconvert_exporter": "python",
   "pygments_lexer": "ipython3",
   "version": "3.9.12"
  }
 },
 "nbformat": 4,
 "nbformat_minor": 5
}
